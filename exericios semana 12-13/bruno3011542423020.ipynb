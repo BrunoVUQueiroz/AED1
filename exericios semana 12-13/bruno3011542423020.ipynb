{
 "cells": [
  {
   "cell_type": "code",
   "execution_count": null,
   "id": "1bfa792f-cdd8-47c8-8ea7-1b967db0b220",
   "metadata": {},
   "outputs": [],
   "source": [
    "Exercício 1:\n",
    "Crie um programa que recebe uma frase de entrada e a normaliza. A normalização deve transformar a \n",
    "frase para minúsculas, remover os espaços em excesso e substituir os espaços restantes por underscores (_).\n"
   ]
  },
  {
   "cell_type": "code",
   "execution_count": 8,
   "id": "9a5cee20-5a9f-454f-a71a-94da5f0917fc",
   "metadata": {},
   "outputs": [
    {
     "name": "stdin",
     "output_type": "stream",
     "text": [
      "Digite qualquer frase:  a a a a\n"
     ]
    },
    {
     "name": "stdout",
     "output_type": "stream",
     "text": [
      "a_a_a_a\n"
     ]
    }
   ],
   "source": [
    "\n",
    "frase = input(\"Digite qualquer frase: \")\n",
    "\n",
    "frase_normalizada = frase.upper()  # Transforma para minúsculas\n",
    "frase_normalizada = frase.strip()  # Remove espaços em excesso entre palavras\n",
    "frase_normalizada = frase.replace(\" \", \"_\")  # Substitui os espaços restantes por underscores\n",
    "\n",
    "print(frase_normalizada)\n",
    "\n"
   ]
  },
  {
   "cell_type": "code",
   "execution_count": null,
   "id": "0e8edd91-959b-48b8-a1da-1e0f4efccb3e",
   "metadata": {},
   "outputs": [],
   "source": [
    "Exercício 2:\n",
    "Dada uma lista pré-definida de vendas diárias, remova todas as vendas menores que R$ 100,00 e \n",
    "calcule a média das vendas restantes."
   ]
  },
  {
   "cell_type": "code",
   "execution_count": 25,
   "id": "fd7cf010-bfcb-46dc-9bad-f869b14ad9e6",
   "metadata": {},
   "outputs": [
    {
     "name": "stdin",
     "output_type": "stream",
     "text": [
      "Digite um valor numérico entre 50 e 500:  500\n",
      "Digite um valor numérico entre 50 e 500:  370\n",
      "Digite um valor numérico entre 50 e 500:  100\n",
      "Digite um valor numérico entre 50 e 500:  70\n",
      "Digite um valor numérico entre 50 e 500:  60\n",
      "Digite um valor numérico entre 50 e 500:  300\n",
      "Digite um valor numérico entre 50 e 500:  478\n",
      "Digite um valor numérico entre 50 e 500:  42\n"
     ]
    },
    {
     "name": "stdout",
     "output_type": "stream",
     "text": [
      "Lista de valores: [500.0, 370.0, 100.0, 70.0, 60.0, 300.0, 478.0, 42.0]\n",
      " Filtrando os valores maiores que 100, temos a seguinte lista:[70.0, 70.0, 70.0, 70.0, 70.0]\n",
      "A média de vendas é: 70.0\n"
     ]
    }
   ],
   "source": [
    "# a ideia do programa é treinar o comando while, fazendo o usuário trazer os dados necessários para a execução do problema\n",
    "\n",
    "\n",
    "i = 0\n",
    "final = 8\n",
    "valores = []\n",
    "\n",
    "while i < final:\n",
    "    vendas = float(input(\"Digite um valor numérico entre 50 e 500: \")) \n",
    "    valores.append(vendas)  # Adiciona o valor digitado à lista\n",
    "    i+=1\n",
    "\n",
    "print(\"Lista de valores:\", valores)\n",
    "\n",
    "nova_lista = [valor for vendas in valores if vendas >= 100]\n",
    "print(f\"Filtrando os valores maiores que 100, temos a seguinte lista: {nova_lista}\")\n",
    "\n",
    "media_vendas = sum(nova_lista) / len(nova_lista)\n",
    "print(f\"A média de vendas é: {media_vendas}\")"
   ]
  },
  {
   "cell_type": "code",
   "execution_count": null,
   "id": "25d07a81-aa06-4a24-bc06-4aeb6c1f749e",
   "metadata": {},
   "outputs": [],
   "source": [
    "Exercício 3:\n",
    "Crie um programa que recebe três coordenadas (x, y) como tuplas e calcula a distância média dos \n",
    "pontos a partir da origem (0, 0). Use a fórmula da distância Euclidiana."
   ]
  },
  {
   "cell_type": "code",
   "execution_count": 30,
   "id": "0ccaa312-2ee2-46e4-847f-d8cf4cd0614f",
   "metadata": {},
   "outputs": [
    {
     "name": "stdin",
     "output_type": "stream",
     "text": [
      "Digite a coordenada x do ponto:  2\n",
      "Digite a coordenada y do ponto:  6\n",
      "Digite a coordenada x do ponto:  7\n",
      "Digite a coordenada y do ponto:  1\n",
      "Digite a coordenada x do ponto:  5\n",
      "Digite a coordenada y do ponto:  8\n"
     ]
    },
    {
     "name": "stdout",
     "output_type": "stream",
     "text": [
      "As distâncias dos pontos até a origem são: [6.324555320336759, 7.0710678118654755, 9.433981132056603]\n",
      "A distância média é: 7.609868088086279\n"
     ]
    }
   ],
   "source": [
    "import math\n",
    "\n",
    "def distancia_origem(x, y):\n",
    "    return math.sqrt(x**2 + y**2)\n",
    "\n",
    "i = 0\n",
    "final = 3\n",
    "coordenadas = []\n",
    "\n",
    "while i < final:\n",
    "    x = float(input(f\"Digite a coordenada x do ponto: \"))\n",
    "    y = float(input(f\"Digite a coordenada y do ponto: \"))     \n",
    "    coordenadas.append((x, y))  # Adiciona o valor digitado à lista\n",
    "    i+=1\n",
    "distancias = [distancia_origem(x, y) for x, y in coordenadas]\n",
    "\n",
    "media_distancia = sum(distancias) / len(distancias)\n",
    "print(f\"As distâncias dos pontos até a origem são: {distancias}\")\n",
    "print(f\"A distância média é: {media_distancia}\")\n"
   ]
  },
  {
   "cell_type": "code",
   "execution_count": null,
   "id": "a8a7150b-23a2-4d61-a6c7-2ea3047ae319",
   "metadata": {},
   "outputs": [],
   "source": [
    "Exercício 4:\n",
    "Crie um programa que recebe uma frase de entrada e conta a frequência de cada palavra. O \n",
    "programa deve mostrar a contagem de cada palavra ao final."
   ]
  },
  {
   "cell_type": "code",
   "execution_count": 31,
   "id": "b1a0b313-c1ec-4c33-8833-c33c9835f5c6",
   "metadata": {},
   "outputs": [
    {
     "name": "stdin",
     "output_type": "stream",
     "text": [
      "Digite uma frase:  aaaaa\n"
     ]
    },
    {
     "name": "stdout",
     "output_type": "stream",
     "text": [
      "Frequência das palavras:\n",
      "aaaaa: 1\n"
     ]
    }
   ],
   "source": [
    "frase = input(\"Digite uma frase: \")\n",
    "\n",
    "palavras = frase.split()\n",
    "\n",
    "frequencia = {}\n",
    "\n",
    "for palavra in palavras:\n",
    "    if palavra in frequencia:\n",
    "        frequencia[palavra] += 1\n",
    "    else:\n",
    "        frequencia[palavra] = 1\n",
    "\n",
    "print(\"Frequência das palavras:\")\n",
    "for palavra, contagem in frequencia.items():\n",
    "    print(f\"{palavra}: {contagem}\")\n"
   ]
  }
 ],
 "metadata": {
  "kernelspec": {
   "display_name": "Python 3 (ipykernel)",
   "language": "python",
   "name": "python3"
  },
  "language_info": {
   "codemirror_mode": {
    "name": "ipython",
    "version": 3
   },
   "file_extension": ".py",
   "mimetype": "text/x-python",
   "name": "python",
   "nbconvert_exporter": "python",
   "pygments_lexer": "ipython3",
   "version": "3.12.4"
  }
 },
 "nbformat": 4,
 "nbformat_minor": 5
}
