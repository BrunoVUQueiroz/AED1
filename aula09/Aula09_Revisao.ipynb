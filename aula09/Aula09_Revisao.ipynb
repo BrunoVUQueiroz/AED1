{
 "cells": [
  {
   "cell_type": "markdown",
   "metadata": {},
   "source": [
    "![Algoritmos e Estrutura de Dados I](AED1_banner.jpg)"
   ]
  },
  {
   "cell_type": "markdown",
   "metadata": {},
   "source": [
    "## <font color='blue'>Algoritmos e Estrutura de Dados I</font>\n",
    "## <font color='blue'>Aula 9 -  Revisão</font>"
   ]
  },
  {
   "cell_type": "code",
   "execution_count": 1,
   "metadata": {},
   "outputs": [
    {
     "name": "stdout",
     "output_type": "stream",
     "text": [
      "Versão da Linguagem Python Usada Neste Jupyter Notebook: 3.12.4\n"
     ]
    }
   ],
   "source": [
    "# Versão da Linguagem Python\n",
    "from platform import python_version\n",
    "print('Versão da Linguagem Python Usada Neste Jupyter Notebook:', python_version())"
   ]
  },
  {
   "cell_type": "markdown",
   "metadata": {},
   "source": [
    "## Estrutura sequencial"
   ]
  },
  {
   "cell_type": "markdown",
   "metadata": {},
   "source": [
    "Escreva um programa em Python que solicite ao usuário o valor de dois números, calcule e exiba a soma deles."
   ]
  },
  {
   "cell_type": "code",
   "execution_count": 2,
   "metadata": {},
   "outputs": [
    {
     "name": "stdin",
     "output_type": "stream",
     "text": [
      "Digite um número: 10\n",
      "Digite um número: 10\n"
     ]
    },
    {
     "name": "stdout",
     "output_type": "stream",
     "text": [
      "A soma dos números solicitados é: 20.0\n"
     ]
    }
   ],
   "source": [
    "numero_1 = float(input(\"Digite um número:\"))\n",
    "numero_2 = float(input(\"Digite um número:\"))\n",
    "\n",
    "soma = numero_1 + numero_2\n",
    "print(\"A soma dos números solicitados é:\",soma)\n"
   ]
  },
  {
   "attachments": {},
   "cell_type": "markdown",
   "metadata": {},
   "source": [
    "Escreva um programa em Python que solicite ao usuário a temperatura em graus Celsius e converta para Fahrenheit. A fórmula para conversão é F = C * 9/5 + 32.\n"
   ]
  },
  {
   "cell_type": "code",
   "execution_count": 11,
   "metadata": {},
   "outputs": [
    {
     "name": "stdin",
     "output_type": "stream",
     "text": [
      "Digite temperatura em graus Celsius: 28\n"
     ]
    },
    {
     "name": "stdout",
     "output_type": "stream",
     "text": [
      "A temperatura em Fahrenheit é 82.40\n"
     ]
    }
   ],
   "source": [
    "temp = float(input(\"Digite temperatura em graus Celsius:\"))\n",
    "\n",
    "conversao = ((temp * 9) /5) + 32\n",
    "print(f\"A temperatura em Fahrenheit é {conversao:.2f}\")\n",
    "\n",
    "\n"
   ]
  },
  {
   "cell_type": "markdown",
   "metadata": {},
   "source": [
    "## Estrutura Condicional"
   ]
  },
  {
   "cell_type": "markdown",
   "metadata": {},
   "source": [
    "Escreva um programa em Python que solicite ao usuário um número e verifique se ele é positivo, negativo ou zero. Exiba a mensagem correspondente.\n"
   ]
  },
  {
   "cell_type": "code",
   "execution_count": 14,
   "metadata": {},
   "outputs": [
    {
     "name": "stdin",
     "output_type": "stream",
     "text": [
      "Digite um valor 20\n"
     ]
    },
    {
     "name": "stdout",
     "output_type": "stream",
     "text": [
      "Este numero é positivo: 20.0\n"
     ]
    }
   ],
   "source": [
    "numero = float(input(\"Digite um valor\"))\n",
    "if numero >0:\n",
    "    print(\"Este numero é positivo:\",numero)\n",
    "elif numero == 0:\n",
    "    print(\"Este número é zero:\", numero)\n",
    "else:\n",
    "    print(\"Este número é negativo:\",numero)"
   ]
  },
  {
   "cell_type": "markdown",
   "metadata": {},
   "source": [
    "Escreva um programa em Python que solicite ao usuário três números e determine qual é o maior entre eles.\n"
   ]
  },
  {
   "cell_type": "code",
   "execution_count": null,
   "metadata": {},
   "outputs": [],
   "source": [
    "n1 = float(input(\"Digite o primeiro valor\"))\n",
    "n2 = float(input(\"Digite o segundo valor\"))\n",
    "n3 = float(input(\"Digite o terceiro valor\"))\n",
    "if n1 > n2:\n",
    "    if n1 > n3:\n",
    "        print(f\"{n1} é o maior\")\n",
    "    else:\n",
    "        print(f\"{n3} é o maior\")\n",
    "else:\n",
    "    if n2 > n3:\n",
    "        print(f\"{n2} é o maior\")\n",
    "    else:\n",
    "        print(f\"{n3} é o maior\")"
   ]
  },
  {
   "cell_type": "code",
   "execution_count": 10,
   "metadata": {},
   "outputs": [
    {
     "name": "stdin",
     "output_type": "stream",
     "text": [
      "Digite o primeiro valor 10\n",
      "Digite o segundo valor 20\n",
      "Digite o terceiro valor 30\n"
     ]
    },
    {
     "name": "stdout",
     "output_type": "stream",
     "text": [
      "O maior valor digitado foi: 30.0\n"
     ]
    }
   ],
   "source": [
    "n1 = float(input(\"Digite o primeiro valor\"))\n",
    "n2 = float(input(\"Digite o segundo valor\"))\n",
    "n3 = float(input(\"Digite o terceiro valor\"))\n",
    "lista = [n1 , n2, n3]\n",
    "maior_valor = max(lista)\n",
    "print(\"O maior valor digitado foi:\",maior_valor)"
   ]
  },
  {
   "cell_type": "markdown",
   "metadata": {},
   "source": [
    "## Estrutura de Repetição"
   ]
  },
  {
   "cell_type": "markdown",
   "metadata": {},
   "source": [
    "Escreva um programa em Python que solicite um número inteiro positivo de 1 a 9 (você tem que verificar se o usuário não digitou fora desse intervalo) e em seguida, deve exibir a tabuada desse número.\n"
   ]
  },
  {
   "cell_type": "code",
   "execution_count": null,
   "metadata": {},
   "outputs": [],
   "source": [
    "a = input(\"Número:\")\n",
    "if a.isnumeric():\n",
    "    n = float(a)\n",
    "    print(n)\n",
    "else:\n",
    "    print(\"O valor digitado não é um número"
   ]
  },
  {
   "cell_type": "code",
   "execution_count": 2,
   "metadata": {},
   "outputs": [
    {
     "name": "stdin",
     "output_type": "stream",
     "text": [
      "Digite um valor de 0 a 9:  10\n"
     ]
    },
    {
     "name": "stdout",
     "output_type": "stream",
     "text": [
      "Digite um valor entre 1 e 9\n"
     ]
    },
    {
     "name": "stdin",
     "output_type": "stream",
     "text": [
      "Digite um valor de 0 a 9:  11\n"
     ]
    },
    {
     "name": "stdout",
     "output_type": "stream",
     "text": [
      "Digite um valor entre 1 e 9\n"
     ]
    },
    {
     "name": "stdin",
     "output_type": "stream",
     "text": [
      "Digite um valor de 0 a 9:  1111\n"
     ]
    },
    {
     "name": "stdout",
     "output_type": "stream",
     "text": [
      "Digite um valor entre 1 e 9\n"
     ]
    },
    {
     "name": "stdin",
     "output_type": "stream",
     "text": [
      "Digite um valor de 0 a 9:  30\n"
     ]
    },
    {
     "name": "stdout",
     "output_type": "stream",
     "text": [
      "Digite um valor entre 1 e 9\n"
     ]
    },
    {
     "name": "stdin",
     "output_type": "stream",
     "text": [
      "Digite um valor de 0 a 9:  3\n"
     ]
    },
    {
     "name": "stdout",
     "output_type": "stream",
     "text": [
      " 1 x  3.0 =  3.0\n",
      " 2 x  3.0 =  6.0\n",
      " 3 x  3.0 =  9.0\n",
      " 4 x  3.0 = 12.0\n",
      " 5 x  3.0 = 15.0\n",
      " 6 x  3.0 = 18.0\n",
      " 7 x  3.0 = 21.0\n",
      " 8 x  3.0 = 24.0\n",
      " 9 x  3.0 = 27.0\n",
      "10 x  3.0 = 30.0\n"
     ]
    }
   ],
   "source": [
    "while True:\n",
    "    digitacao = input(\"Digite um valor de 0 a 9: \")\n",
    "    if digitacao.isnumeric():\n",
    "        numero = float(digitacao)\n",
    "        if numero >=1 and numero<=9:\n",
    "            break\n",
    "        else:\n",
    "            print(\"Digite um valor entre 1 e 9\")\n",
    "for i in range(1,11):\n",
    "    print(f\"{i:2d} x {numero:4.1f} = {(i*numero):4.1f}\")\n",
    "\n",
    "            "
   ]
  },
  {
   "cell_type": "code",
   "execution_count": 8,
   "metadata": {},
   "outputs": [
    {
     "name": "stdin",
     "output_type": "stream",
     "text": [
      "Digite um valor:  1\n"
     ]
    },
    {
     "name": "stdout",
     "output_type": "stream",
     "text": [
      " 1 x  1.0 =  1.0\n",
      " 2 x  1.0 =  2.0\n",
      " 3 x  1.0 =  3.0\n",
      " 4 x  1.0 =  4.0\n",
      " 5 x  1.0 =  5.0\n",
      " 6 x  1.0 =  6.0\n",
      " 7 x  1.0 =  7.0\n",
      " 8 x  1.0 =  8.0\n",
      " 9 x  1.0 =  9.0\n",
      "10 x  1.0 = 10.0\n"
     ]
    }
   ],
   "source": [
    "n1 = float(input(\"Digite um valor: \"))\n",
    "\n",
    "# Verifica se n1 está fora do intervalo e pede um novo valor\n",
    "while n1 < 1 or n1 > 9:\n",
    "    print(\"Digite um valor entre 1 e 9\")\n",
    "    n1 = float(input(\"Digite um valor: \"))\n",
    "\n",
    "# Imprime a tabuada de n1\n",
    "for i in range(1, 11):\n",
    "    print(f\"{i:2d} x {n1:4.1f} = {(i * n1):4.1f}\")\n"
   ]
  },
  {
   "cell_type": "markdown",
   "metadata": {},
   "source": [
    "Escreva um programa em Python que solicite ao usuário um número inteiro positivo e calcule o fatorial desse número.\n"
   ]
  },
  {
   "cell_type": "code",
   "execution_count": null,
   "metadata": {},
   "outputs": [],
   "source": [
    "# Solicita ao usuário um número inteiro positivo\n",
    "numero = input(\"Digite um número inteiro positivo: \")\n",
    "\n",
    "# Verifica se o número é válido\n",
    "while not numero.isdigit() or int(numero) < 0:\n",
    "    print(\"Entrada inválida. Por favor, insira um número inteiro positivo.\")\n",
    "    numero = input(\"Digite um número inteiro positivo: \")\n",
    "\n",
    "# Converte o número para inteiro\n",
    "numero = int(numero)\n",
    "\n",
    "# Calcula o fatorial\n",
    "fatorial = 1\n",
    "for i in range(1, numero + 1):\n",
    "    fatorial *= i\n",
    "\n",
    "# Exibe o resultado\n",
    "print(f\"O fatorial de {numero} é {fatorial}.\")\n"
   ]
  },
  {
   "cell_type": "code",
   "execution_count": 18,
   "metadata": {},
   "outputs": [
    {
     "ename": "SyntaxError",
     "evalue": "invalid syntax (2801540782.py, line 5)",
     "output_type": "error",
     "traceback": [
      "\u001b[1;36m  Cell \u001b[1;32mIn[18], line 5\u001b[1;36m\u001b[0m\n\u001b[1;33m    numero = (numero)!\u001b[0m\n\u001b[1;37m                     ^\u001b[0m\n\u001b[1;31mSyntaxError\u001b[0m\u001b[1;31m:\u001b[0m invalid syntax\n"
     ]
    }
   ],
   "source": [
    "numero = float(input(\"Digite um valor inteiro positivo:\"))\n",
    "\n",
    "while numero > 0 :\n",
    "    print(numero)\n",
    "    numero = (numero)!\n",
    "\n"
   ]
  },
  {
   "cell_type": "code",
   "execution_count": 9,
   "metadata": {},
   "outputs": [
    {
     "name": "stdin",
     "output_type": "stream",
     "text": [
      "Digite um valor inteiro positivo: 5\n"
     ]
    },
    {
     "ename": "TypeError",
     "evalue": "'float' object cannot be interpreted as an integer",
     "output_type": "error",
     "traceback": [
      "\u001b[1;31m---------------------------------------------------------------------------\u001b[0m",
      "\u001b[1;31mTypeError\u001b[0m                                 Traceback (most recent call last)",
      "Cell \u001b[1;32mIn[9], line 4\u001b[0m\n\u001b[0;32m      1\u001b[0m numero \u001b[38;5;241m=\u001b[39m \u001b[38;5;28mfloat\u001b[39m(\u001b[38;5;28minput\u001b[39m(\u001b[38;5;124m\"\u001b[39m\u001b[38;5;124mDigite um valor inteiro positivo:\u001b[39m\u001b[38;5;124m\"\u001b[39m))  \n\u001b[0;32m      2\u001b[0m fatorial \u001b[38;5;241m=\u001b[39m \u001b[38;5;241m1\u001b[39m\n\u001b[1;32m----> 4\u001b[0m \u001b[38;5;28;01mfor\u001b[39;00m i \u001b[38;5;129;01min\u001b[39;00m \u001b[38;5;28mrange\u001b[39m(\u001b[38;5;241m1\u001b[39m, numero \u001b[38;5;241m+\u001b[39m \u001b[38;5;241m1\u001b[39m):\n\u001b[0;32m      5\u001b[0m     fatorial \u001b[38;5;241m*\u001b[39m\u001b[38;5;241m=\u001b[39m i\n\u001b[0;32m      7\u001b[0m \u001b[38;5;28mprint\u001b[39m(fatorial)\n",
      "\u001b[1;31mTypeError\u001b[0m: 'float' object cannot be interpreted as an integer"
     ]
    }
   ],
   "source": [
    "numero = float(input(\"Digite um valor inteiro positivo:\"))  \n",
    "fatorial = 1\n",
    "\n",
    "for i in range(1, numero + 1):\n",
    "    fatorial *= i\n",
    "\n",
    "print(fatorial)  # Isso imprimirá 120 para 5!\n"
   ]
  },
  {
   "cell_type": "markdown",
   "metadata": {},
   "source": [
    "## Geral"
   ]
  },
  {
   "cell_type": "markdown",
   "metadata": {},
   "source": [
    "Você é um cientista de dados e precisa analisar as notas de um conjunto de estudantes em uma disciplina. Você deverá escrever um programa em Python que solicite ao usuário o número de estudantes e, em seguida, as notas desses estudantes. O programa deve calcular e exibir:\n",
    "\n",
    "- A média das notas.\n",
    "- A maior e a menor nota.\n",
    "- O número de estudantes aprovados (nota maior ou igual a 6) e reprovados (nota menor que 6).\n",
    "\n",
    "Regras:\n",
    "\n",
    "- Utilize variáveis simples para armazenar as informações.\n",
    "- Utilize estruturas de repetição para coletar as notas dos estudantes.\n",
    "- Utilize estruturas condicionais para determinar o status de aprovação dos estudantes."
   ]
  },
  {
   "cell_type": "code",
   "execution_count": 15,
   "metadata": {},
   "outputs": [
    {
     "name": "stdin",
     "output_type": "stream",
     "text": [
      "Digite o total de estudantes 3\n",
      "Entre com a nota do aluno 1: 4\n",
      "Entre com a nota do aluno 2: 5\n",
      "Entre com a nota do aluno 3: 6\n"
     ]
    },
    {
     "name": "stdout",
     "output_type": "stream",
     "text": [
      " A média das notas é igual a ......:  5.0\n",
      " A menor nota é igual a: ..........:  4.0\n",
      " A maior nota é igual a: ...........: 0\n",
      " O número de aprovados é: .........: 1\n",
      " O número de reprovados é:.........: 2\n"
     ]
    }
   ],
   "source": [
    "qtd_alunos = int(input(\"Digite o total de estudantes\"))\n",
    "soma_notas = 0\n",
    "maior = 0\n",
    "menor = 100\n",
    "qtd_aprov = 0\n",
    "qtd_reprov = 0\n",
    "for i in range(qtd_alunos):\n",
    "    nota = float(input(f\"Entre com a nota do aluno {i+1}:\"))\n",
    "    if nota >= 6:\n",
    "        qtd_aprov += 1\n",
    "    else:\n",
    "        qtd_reprov += 1\n",
    "    if nota > maior:\n",
    "        mairo = nota\n",
    "    if nota < menor:\n",
    "        menor = nota\n",
    "    soma_notas += nota\n",
    "media = soma_notas / qtd_alunos\n",
    "print(f\" A média das notas é igual a ......:  {media}\")\n",
    "print(f\" A menor nota é igual a: ..........:  {menor}\")\n",
    "print(f\" A maior nota é igual a: ...........: {maior}\")\n",
    "print(f\" O número de aprovados é: .........: {qtd_aprov}\")\n",
    "print(f\" O número de reprovados é:.........: {qtd_reprov}\")\n",
    "    \n"
   ]
  },
  {
   "cell_type": "markdown",
   "metadata": {},
   "source": [
    "Faça um programa que receba um número inteiro positivo e transforme esse número para binário."
   ]
  },
  {
   "cell_type": "raw",
   "metadata": {},
   "source": [
    "numero =  int(input(\"Digite o valor na base 10:\"))\n",
    "b = ''\n",
    "if numero ==0:\n",
    "\n"
   ]
  },
  {
   "cell_type": "code",
   "execution_count": 17,
   "metadata": {},
   "outputs": [
    {
     "name": "stdin",
     "output_type": "stream",
     "text": [
      "Digite o valor na base 10: 10\n"
     ]
    },
    {
     "name": "stdout",
     "output_type": "stream",
     "text": [
      "O número 10 em binário é:  1010\n"
     ]
    }
   ],
   "source": [
    "numero = int(input(\"Digite o valor na base 10:\"))\n",
    "b = ''\n",
    "n = numero\n",
    "if numero == 0:\n",
    "    b = \"0\"\n",
    "else:\n",
    "    while numero > 0:\n",
    "        resto = numero %2\n",
    "        digito = str(resto)\n",
    "        b= digito +b\n",
    "        numero = numero // 2\n",
    "print(f\"O número {n} em binário é: \", b)\n"
   ]
  },
  {
   "cell_type": "markdown",
   "metadata": {},
   "source": [
    "## Fim da Aula 9"
   ]
  }
 ],
 "metadata": {
  "kernelspec": {
   "display_name": "Python 3 (ipykernel)",
   "language": "python",
   "name": "python3"
  },
  "language_info": {
   "codemirror_mode": {
    "name": "ipython",
    "version": 3
   },
   "file_extension": ".py",
   "mimetype": "text/x-python",
   "name": "python",
   "nbconvert_exporter": "python",
   "pygments_lexer": "ipython3",
   "version": "3.12.4"
  }
 },
 "nbformat": 4,
 "nbformat_minor": 4
}
